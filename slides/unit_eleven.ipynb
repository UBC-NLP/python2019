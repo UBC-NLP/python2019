{
 "cells": [
  {
   "cell_type": "markdown",
   "metadata": {
    "slideshow": {
     "slide_type": "slide"
    }
   },
   "source": [
    "# Agenda\n",
    "\n",
    "* Logistics\n",
    "* Quick Revision (5 mins)\n",
    "* Files (Up until 10:20)\n",
    "* Break: 10:20 am – 10:33 am\n",
    "* In-class practice: 10:33 am - 11:20 am\n",
    "* In-class final project proposal discussions 11:20 - 11:50 am"
   ]
  },
  {
   "cell_type": "markdown",
   "metadata": {
    "slideshow": {
     "slide_type": "slide"
    }
   },
   "source": [
    "* Homework 2 graded\n",
    "* Homework 3\n",
    "* We will discuss proposals 11:20 - 11:50\n",
    "* Office hours & extra office hours"
   ]
  },
  {
   "cell_type": "markdown",
   "metadata": {
    "slideshow": {
     "slide_type": "slide"
    }
   },
   "source": [
    "# Revision\n",
    "* What did we cover last time?"
   ]
  },
  {
   "cell_type": "markdown",
   "metadata": {
    "slideshow": {
     "slide_type": "subslide"
    }
   },
   "source": [
    "* What are modules?\n",
    "* what is an example module?"
   ]
  },
  {
   "cell_type": "markdown",
   "metadata": {
    "slideshow": {
     "slide_type": "slide"
    }
   },
   "source": [
    "# Files\n",
    "* Python is an excellent language for working with textual data.\n",
    "* In this tutorial, we cover how to read and write text files."
   ]
  },
  {
   "cell_type": "markdown",
   "metadata": {
    "slideshow": {
     "slide_type": "slide"
    }
   },
   "source": [
    "# Motivations\n",
    "* Why would we need to process files?\n",
    "* Real-world examples?"
   ]
  },
  {
   "cell_type": "markdown",
   "metadata": {
    "slideshow": {
     "slide_type": "slide"
    }
   },
   "source": [
    "# Practice set-up\n",
    "* Download the file \"shakespeare.txt\" from Canvas >> Files >> data >> \"shakespeare.txt\".\n",
    "* FYI: The file is also available at: http://www.gutenberg.org/cache/epub/100/pg100.txt."
   ]
  },
  {
   "cell_type": "code",
   "execution_count": 2,
   "metadata": {
    "slideshow": {
     "slide_type": "slide"
    }
   },
   "outputs": [
    {
     "name": "stdout",
     "output_type": "stream",
     "text": [
      "<type 'file'>\n"
     ]
    }
   ],
   "source": [
    "# \"open\" will return a \"file\" object. \n",
    "# Note we are opening the file for reading (by providing a mode --> \"r\" argument)\n",
    "shakespeare_works=open(\"shakespeare.txt\", \"r\")\n",
    "print(type(shakespeare_works))"
   ]
  },
  {
   "cell_type": "markdown",
   "metadata": {
    "slideshow": {
     "slide_type": "slide"
    }
   },
   "source": [
    "* The file must be in your current directory (same as this Jupyter notebook or where your \".py\" script lives)\n",
    "* Another option would be to provide the \"full path\" where the file lives on desk."
   ]
  },
  {
   "cell_type": "markdown",
   "metadata": {
    "slideshow": {
     "slide_type": "slide"
    }
   },
   "source": [
    "* Modes include: **\"r\" for reading**, **\"w\" for writing**, and **\"a\" for appending**"
   ]
  },
  {
   "cell_type": "code",
   "execution_count": 4,
   "metadata": {
    "slideshow": {
     "slide_type": "slide"
    }
   },
   "outputs": [
    {
     "name": "stdout",
     "output_type": "stream",
     "text": [
      "<type 'str'>\n"
     ]
    }
   ],
   "source": [
    "# Read the whole file as a big \"string\"\n",
    "f =open(\"shakespeare.txt\", \"r\")\n",
    "f=f.read()\n",
    "print(type(f))"
   ]
  },
  {
   "cell_type": "code",
   "execution_count": null,
   "metadata": {},
   "outputs": [],
   "source": [
    "f =open(\"shakespeare.txt\", \"r\")\n",
    "f=f.read() \n",
    "\n",
    "# Below will also work:\n",
    "#-----------------------\n",
    "# f =open(\"shakespeare.txt\", \"r\").read()"
   ]
  },
  {
   "cell_type": "code",
   "execution_count": 5,
   "metadata": {
    "slideshow": {
     "slide_type": "slide"
    }
   },
   "outputs": [
    {
     "name": "stdout",
     "output_type": "stream",
     "text": [
      "5589889\n"
     ]
    }
   ],
   "source": [
    "# It's a very big string\n",
    "print(len(f))"
   ]
  },
  {
   "cell_type": "code",
   "execution_count": 7,
   "metadata": {
    "slideshow": {
     "slide_type": "slide"
    }
   },
   "outputs": [
    {
     "name": "stdout",
     "output_type": "stream",
     "text": [
      "﻿The Project Gutenberg \n"
     ]
    }
   ],
   "source": [
    "print(f[:25])"
   ]
  },
  {
   "cell_type": "code",
   "execution_count": 10,
   "metadata": {
    "slideshow": {
     "slide_type": "slide"
    }
   },
   "outputs": [
    {
     "name": "stdout",
     "output_type": "stream",
     "text": [
      "﻿The Project Gutenberg EBook of The Complete Wor\n"
     ]
    }
   ],
   "source": [
    "print(f[:50])"
   ]
  },
  {
   "cell_type": "code",
   "execution_count": 11,
   "metadata": {
    "slideshow": {
     "slide_type": "slide"
    }
   },
   "outputs": [
    {
     "name": "stdout",
     "output_type": "stream",
     "text": [
      "\r\n",
      "\r\n",
      "This eBook is for the use of anyone anywhere at no cost and with\r\n",
      "almost no restrictions whatsoe\n"
     ]
    }
   ],
   "source": [
    "print(f[100:200])"
   ]
  },
  {
   "cell_type": "code",
   "execution_count": 12,
   "metadata": {
    "slideshow": {
     "slide_type": "slide"
    }
   },
   "outputs": [
    {
     "name": "stdout",
     "output_type": "stream",
     "text": [
      "<type 'list'>\n"
     ]
    }
   ],
   "source": [
    "# readlines() will return a list of all the lines in the file\n",
    "f =open(\"shakespeare.txt\", \"r\").readlines()\n",
    "print(type(f))"
   ]
  },
  {
   "cell_type": "code",
   "execution_count": 13,
   "metadata": {
    "slideshow": {
     "slide_type": "slide"
    }
   },
   "outputs": [
    {
     "name": "stdout",
     "output_type": "stream",
     "text": [
      "124787\n"
     ]
    }
   ],
   "source": [
    "print(len(f))"
   ]
  },
  {
   "cell_type": "code",
   "execution_count": 14,
   "metadata": {
    "slideshow": {
     "slide_type": "slide"
    }
   },
   "outputs": [
    {
     "name": "stdout",
     "output_type": "stream",
     "text": [
      "['\\xef\\xbb\\xbfThe Project Gutenberg EBook of The Complete Works of William Shakespeare, by\\r\\n', 'William Shakespeare\\r\\n', '\\r\\n', 'This eBook is for the use of anyone anywhere at no cost and with\\r\\n', 'almost no restrictions whatsoever.  You may copy it, give it away or\\r\\n']\n"
     ]
    }
   ],
   "source": [
    "print(f[:5])"
   ]
  },
  {
   "cell_type": "code",
   "execution_count": 15,
   "metadata": {
    "slideshow": {
     "slide_type": "slide"
    }
   },
   "outputs": [
    {
     "name": "stdout",
     "output_type": "stream",
     "text": [
      "*** END: FULL LICENSE ***\r\n",
      "\n"
     ]
    }
   ],
   "source": [
    "print(f[-1])"
   ]
  },
  {
   "cell_type": "code",
   "execution_count": null,
   "metadata": {
    "collapsed": true,
    "slideshow": {
     "slide_type": "slide"
    }
   },
   "outputs": [],
   "source": [
    "# Close your files!\n",
    "f.close()"
   ]
  },
  {
   "cell_type": "code",
   "execution_count": 28,
   "metadata": {
    "collapsed": true,
    "slideshow": {
     "slide_type": "slide"
    }
   },
   "outputs": [],
   "source": [
    "out_f = open(\"./small_text.txt\", \"w\")"
   ]
  },
  {
   "cell_type": "code",
   "execution_count": 29,
   "metadata": {
    "collapsed": true,
    "slideshow": {
     "slide_type": "slide"
    }
   },
   "outputs": [],
   "source": [
    "question=\"Do you like Python?\\n\" # Note we add \"\\n\" as write does not automatically do that for us\n",
    "out_f.write(question)"
   ]
  },
  {
   "cell_type": "code",
   "execution_count": 31,
   "metadata": {
    "collapsed": true
   },
   "outputs": [],
   "source": [
    "out_f = open(\"./small_text.txt\", \"a\") # Note the \"a\" (append) mode"
   ]
  },
  {
   "cell_type": "code",
   "execution_count": 32,
   "metadata": {
    "collapsed": true,
    "slideshow": {
     "slide_type": "slide"
    }
   },
   "outputs": [],
   "source": [
    "another_question=\"Do you like Lua?\\n\"\n",
    "out_f.write(another_question)"
   ]
  },
  {
   "cell_type": "markdown",
   "metadata": {
    "slideshow": {
     "slide_type": "slide"
    }
   },
   "source": [
    "# More with files"
   ]
  },
  {
   "cell_type": "code",
   "execution_count": 3,
   "metadata": {
    "slideshow": {
     "slide_type": "slide"
    }
   },
   "outputs": [
    {
     "name": "stdout",
     "output_type": "stream",
     "text": [
      "the 5\n",
      "of 4\n",
      "this 4\n",
      "** 4\n",
      "project 3\n",
      "gutenberg 3\n",
      "ebook 3\n"
     ]
    }
   ],
   "source": [
    "from collections import defaultdict\n",
    "\n",
    "def get_dict(sentences):\n",
    "    \"\"\"\n",
    "    arguments:\n",
    "    input: @sentences: a list of sentences\n",
    "    returns: a dictionary of the words in the sentences.\n",
    "             dict key is a word and value is word frequency\n",
    "    \"\"\"\n",
    "    word_freq=defaultdict(int)\n",
    "    for sent in sentences:\n",
    "        words=sent.lower().split()\n",
    "        for w in words:\n",
    "            word_freq[w]+=1\n",
    "    return word_freq\n",
    "\n",
    "#\n",
    "lines=open(\"shakespeare.txt\", \"r\").readlines()\n",
    "sentences=lines[:10]\n",
    "freqs=get_dict(sentences)\n",
    "# This will sort by count/value of the \"freqs\" dictionary in reverse order such that the highest values occur first\n",
    "d=sorted(freqs.items(), key = lambda x: x[1], reverse=True) # \"d\" is now a list of tuples!\n",
    "for i in d:\n",
    "    # For readability let's assign each item in the tuple to a meaningfully named variable\n",
    "    w=i[0]\n",
    "    freq=i[-1]\n",
    "    if freq > 2:\n",
    "        print(w, freq)"
   ]
  },
  {
   "cell_type": "code",
   "execution_count": 25,
   "metadata": {
    "slideshow": {
     "slide_type": "slide"
    }
   },
   "outputs": [
    {
     "name": "stdout",
     "output_type": "stream",
     "text": [
      "<class 'list'>\n"
     ]
    }
   ],
   "source": [
    "# This will write freqs to a file\n",
    "lines=open(\"shakespeare.txt\", \"r\").readlines()\n",
    "# We only take the top 1000 lines\n",
    "sentences=lines[:1000]\n",
    "#freqs=get_dict(sentences)\n",
    "freqs=get_dict(lines)\n",
    "d=sorted(freqs.items())\n",
    "print(type(d))\n",
    "word_freqs=open(\"./word_list.txt\", \"w\")\n",
    "for i in d:\n",
    "    # For readability\n",
    "    w=i[0]\n",
    "    freq=i[-1]\n",
    "    word_freqs.write(w+\"\\t\"+str(freq)+\"\\n\")\n",
    "    \n",
    "word_freqs.close()\n",
    "    "
   ]
  },
  {
   "cell_type": "code",
   "execution_count": null,
   "metadata": {},
   "outputs": [
    {
     "name": "stdout",
     "output_type": "stream",
     "text": [
      "\u001b7\u001b[?47h\u001b[?1h\u001b=\r",
      "\"       241\r\n",
      "\"'tis   1\r\n",
      "\"a      4\r\n",
      "\"air,\"  1\r\n",
      "\"alas,  1\r\n",
      "\"amen\"  2\r\n",
      "\"amen\"? 1\r\n",
      "\"amen,\" 1\r\n",
      "\"and    1\r\n",
      "\"aroint 1\r\n",
      "\"as-is\".        1\r\n",
      "\"b      1\r\n",
      "\"better\"?       1\r\n",
      "\"black  1\r\n",
      "\"break  1\r\n",
      "\"brutus\"        1\r\n",
      "\"brutus,        2\r\n",
      "\"c      1\r\n",
      "\"caesar\"?       1\r\n",
      "\"caesar,        1\r\n",
      "\"caesar.\"       2\r\n",
      "\"certes,\"       1\r\n",
      "\"come   1\r\n",
      "\u001b[7mword_list.txt\u001b[m\u001b[K"
     ]
    }
   ],
   "source": [
    "!less \"word_list.txt\""
   ]
  },
  {
   "cell_type": "markdown",
   "metadata": {
    "slideshow": {
     "slide_type": "slide"
    }
   },
   "source": [
    "# Excercice (10:35 - 10:50)\n",
    "* Download the file \"pos.swn.txt\" from Canvas >> Files > data\n",
    "* Write a function that reads the file lines into a list.\n",
    "\n",
    "* Your function should:\n",
    "* a. Keep only the first 20 lines in the list.\n",
    "* b. Replace \"_\" with a space \" \"\n",
    "* c. return the list\n",
    "\n",
    "* Call the function and print the list\n"
   ]
  },
  {
   "cell_type": "markdown",
   "metadata": {
    "slideshow": {
     "slide_type": "slide"
    }
   },
   "source": [
    "# In-Class Practice (10:50 - 11:20)\n",
    "* Work on the practical, real-world task of mining text for sentiment (See  notebook from class site)."
   ]
  },
  {
   "cell_type": "code",
   "execution_count": 2,
   "metadata": {},
   "outputs": [
    {
     "name": "stdout",
     "output_type": "stream",
     "text": [
      "{'hamlet': 20, 'went': 2, 'market': 7}\n"
     ]
    }
   ],
   "source": [
    "new_d= {\"hamlet\": 20, \"went\": 2, \"market\": 7}\n",
    "print(new_d)"
   ]
  },
  {
   "cell_type": "code",
   "execution_count": 3,
   "metadata": {},
   "outputs": [
    {
     "data": {
      "text/plain": [
       "dict_items([('hamlet', 20), ('went', 2), ('market', 7)])"
      ]
     },
     "execution_count": 3,
     "metadata": {},
     "output_type": "execute_result"
    }
   ],
   "source": [
    "new_d.items()"
   ]
  },
  {
   "cell_type": "code",
   "execution_count": 28,
   "metadata": {},
   "outputs": [
    {
     "name": "stdout",
     "output_type": "stream",
     "text": [
      "20\n",
      "2\n",
      "7\n"
     ]
    }
   ],
   "source": [
    "for i in new_d.items():\n",
    "    w=i[0]\n",
    "    count=i[-1]\n",
    "    #print(w)\n",
    "    print(count)"
   ]
  },
  {
   "cell_type": "code",
   "execution_count": 6,
   "metadata": {},
   "outputs": [],
   "source": [
    "lt = new_d.items()"
   ]
  },
  {
   "cell_type": "code",
   "execution_count": 7,
   "metadata": {},
   "outputs": [
    {
     "name": "stdout",
     "output_type": "stream",
     "text": [
      "dict_items([('hamlet', 20), ('went', 2), ('market', 7)])\n"
     ]
    }
   ],
   "source": [
    "print(lt)"
   ]
  },
  {
   "cell_type": "code",
   "execution_count": 8,
   "metadata": {},
   "outputs": [
    {
     "name": "stdout",
     "output_type": "stream",
     "text": [
      "('hamlet', 20)\n",
      "('went', 2)\n",
      "('market', 7)\n"
     ]
    }
   ],
   "source": [
    "for i in lt:\n",
    "    print(i)"
   ]
  },
  {
   "cell_type": "code",
   "execution_count": 9,
   "metadata": {},
   "outputs": [
    {
     "data": {
      "text/plain": [
       "[('hamlet', 20), ('market', 7), ('went', 2)]"
      ]
     },
     "execution_count": 9,
     "metadata": {},
     "output_type": "execute_result"
    }
   ],
   "source": [
    "sorted(lt)"
   ]
  },
  {
   "cell_type": "code",
   "execution_count": 10,
   "metadata": {},
   "outputs": [
    {
     "data": {
      "text/plain": [
       "['a', 'e', 'z']"
      ]
     },
     "execution_count": 10,
     "metadata": {},
     "output_type": "execute_result"
    }
   ],
   "source": [
    "l=[\"a\", \"z\", \"e\"]\n",
    "sorted(l)"
   ]
  },
  {
   "cell_type": "code",
   "execution_count": 13,
   "metadata": {},
   "outputs": [
    {
     "data": {
      "text/plain": [
       "[('hamlet', 20), ('market', 7), ('went', 2)]"
      ]
     },
     "execution_count": 13,
     "metadata": {},
     "output_type": "execute_result"
    }
   ],
   "source": [
    "sorted(lt)"
   ]
  },
  {
   "cell_type": "code",
   "execution_count": 15,
   "metadata": {},
   "outputs": [
    {
     "data": {
      "text/plain": [
       "[('hamlet', 20), ('market', 7), ('went', 2)]"
      ]
     },
     "execution_count": 15,
     "metadata": {},
     "output_type": "execute_result"
    }
   ],
   "source": [
    "sorted(lt)"
   ]
  },
  {
   "cell_type": "code",
   "execution_count": 16,
   "metadata": {},
   "outputs": [
    {
     "data": {
      "text/plain": [
       "[('went', 2), ('market', 7), ('hamlet', 20)]"
      ]
     },
     "execution_count": 16,
     "metadata": {},
     "output_type": "execute_result"
    }
   ],
   "source": [
    "sorted(lt, key = lambda x: x[1], reverse=False)"
   ]
  },
  {
   "cell_type": "code",
   "execution_count": 17,
   "metadata": {},
   "outputs": [
    {
     "data": {
      "text/plain": [
       "[('hamlet', 20), ('market', 7), ('went', 2)]"
      ]
     },
     "execution_count": 17,
     "metadata": {},
     "output_type": "execute_result"
    }
   ],
   "source": [
    "sorted(lt, key = lambda x: x[1], reverse=True)"
   ]
  },
  {
   "cell_type": "code",
   "execution_count": 18,
   "metadata": {},
   "outputs": [
    {
     "data": {
      "text/plain": [
       "[('hamlet', 20), ('market', 7), ('went', 2)]"
      ]
     },
     "execution_count": 18,
     "metadata": {},
     "output_type": "execute_result"
    }
   ],
   "source": [
    "sorted(lt)"
   ]
  }
 ],
 "metadata": {
  "celltoolbar": "Slideshow",
  "kernelspec": {
   "display_name": "Python 3",
   "language": "python",
   "name": "python3"
  },
  "language_info": {
   "codemirror_mode": {
    "name": "ipython",
    "version": 3
   },
   "file_extension": ".py",
   "mimetype": "text/x-python",
   "name": "python",
   "nbconvert_exporter": "python",
   "pygments_lexer": "ipython3",
   "version": "3.6.5"
  }
 },
 "nbformat": 4,
 "nbformat_minor": 1
}
